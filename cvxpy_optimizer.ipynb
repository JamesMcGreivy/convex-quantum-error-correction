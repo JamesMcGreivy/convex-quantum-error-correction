{
 "cells": [
  {
   "cell_type": "code",
   "execution_count": 1,
   "id": "66ffb400-830f-4f80-aae2-009a34e57044",
   "metadata": {},
   "outputs": [
    {
     "data": {
      "text/plain": [
       "<module 'qec_schemes' from '/n/home10/jmcgreivy/convex-quantum-error-correction/qec_schemes.py'>"
      ]
     },
     "execution_count": 1,
     "metadata": {},
     "output_type": "execute_result"
    }
   ],
   "source": [
    "import numpy as np\n",
    "import torch\n",
    "import opt_einsum\n",
    "import matplotlib.pyplot as plt\n",
    "\n",
    "import utils\n",
    "import cvxpy_caller\n",
    "import process_matrix\n",
    "import error_schemes\n",
    "import qec_schemes\n",
    "\n",
    "import importlib\n",
    "importlib.reload(utils)\n",
    "importlib.reload(process_matrix)\n",
    "importlib.reload(cvxpy_caller)\n",
    "importlib.reload(error_schemes)\n",
    "importlib.reload(qec_schemes)"
   ]
  },
  {
   "cell_type": "code",
   "execution_count": 2,
   "id": "eefe334f-f480-4b89-93f5-4717e24f9fa1",
   "metadata": {},
   "outputs": [],
   "source": [
    "# might expect a stable range as the error rate approaches zero you'll approach this optimal code\n",
    "# look into enforcing sparsity of Krauss operators"
   ]
  },
  {
   "cell_type": "code",
   "execution_count": 3,
   "id": "91ee0e0c-ab11-455d-acff-7bffc4516889",
   "metadata": {},
   "outputs": [],
   "source": [
    "def plot_find_vs_error(qec, error_scheme, label):\n",
    "    fids = []\n",
    "    errors = np.linspace(0, 1, 25)\n",
    "    for e in errors:\n",
    "        X_E = error_scheme(int(np.log2(qec[\"X_R\"].shape[0])), e)\n",
    "        fid = utils.compute_fidelity(X_C=qec[\"X_C\"], X_E=X_E, X_D=qec[\"X_D\"]).item()\n",
    "        fids.append(fid)\n",
    "    plt.plot(errors, np.array(fids), label = label)"
   ]
  },
  {
   "cell_type": "code",
   "execution_count": null,
   "id": "afd0889f-d6f8-45f2-a943-5de334f75fa5",
   "metadata": {},
   "outputs": [],
   "source": [
    "cvx_qec_2 = qec_schemes.convex_optimizer_qec(1, 2, error_schemes.GAD(q=2, l=0.5))\n",
    "plot_find_vs_error(cvx_qec_2, error_schemes.GAD, label=\"Convex Optimizer 2 qubit \")\n",
    "\n",
    "cvx_qec_3 = qec_schemes.convex_optimizer_qec(1, 3, error_schemes.GAD(q=3, l=0.5))\n",
    "plot_find_vs_error(cvx_qec_3, error_schemes.GAD, label=\"Convex Optimizer 3 qubit\")\n",
    "\n",
    "cvx_qec_4 = qec_schemes.convex_optimizer_qec(1, 4, error_schemes.GAD(q=4, l=0.5))\n",
    "plot_find_vs_error(cvx_qec_4, error_schemes.GAD, label=\"Convex Optimizer 4 qubit\")\n",
    "\n",
    "plt.legend()"
   ]
  },
  {
   "cell_type": "code",
   "execution_count": null,
   "id": "784e435a-d494-422c-8294-cc15e36faffb",
   "metadata": {},
   "outputs": [],
   "source": []
  },
  {
   "cell_type": "code",
   "execution_count": null,
   "id": "de7428f8-bae1-4cad-8ab5-6d046091d078",
   "metadata": {},
   "outputs": [],
   "source": []
  }
 ],
 "metadata": {
  "kernelspec": {
   "display_name": "Python [conda env:.conda-torch]",
   "language": "python",
   "name": "conda-env-.conda-torch-py"
  },
  "language_info": {
   "codemirror_mode": {
    "name": "ipython",
    "version": 3
   },
   "file_extension": ".py",
   "mimetype": "text/x-python",
   "name": "python",
   "nbconvert_exporter": "python",
   "pygments_lexer": "ipython3",
   "version": "3.11.6"
  }
 },
 "nbformat": 4,
 "nbformat_minor": 5
}
