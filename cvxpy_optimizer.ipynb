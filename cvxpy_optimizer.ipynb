{
 "cells": [
  {
   "cell_type": "code",
   "execution_count": 1,
   "id": "66ffb400-830f-4f80-aae2-009a34e57044",
   "metadata": {},
   "outputs": [
    {
     "data": {
      "text/plain": [
       "<module 'qec_schemes' from '/Users/jamesmcgreivy/Desktop/convex-quantum-error-correction/qec_schemes.py'>"
      ]
     },
     "execution_count": 1,
     "metadata": {},
     "output_type": "execute_result"
    }
   ],
   "source": [
    "import numpy as np\n",
    "import torch\n",
    "import opt_einsum\n",
    "\n",
    "import matplotlib.pyplot as plt\n",
    "import seaborn as sns\n",
    "sns.set_theme()\n",
    "\n",
    "from matplotlib import rc\n",
    "rc('font',**{'family':'normal','size':26,'weight':'bold'})\n",
    "rc('text', usetex=True)\n",
    "\n",
    "import utils\n",
    "import cvxpy_caller\n",
    "import process_matrix\n",
    "import error_schemes\n",
    "import qec_schemes\n",
    "\n",
    "import importlib\n",
    "importlib.reload(utils)\n",
    "importlib.reload(process_matrix)\n",
    "importlib.reload(cvxpy_caller)\n",
    "importlib.reload(error_schemes)\n",
    "importlib.reload(qec_schemes)"
   ]
  },
  {
   "cell_type": "code",
   "execution_count": 2,
   "id": "eefe334f-f480-4b89-93f5-4717e24f9fa1",
   "metadata": {},
   "outputs": [],
   "source": [
    "# might expect a stable range as the error rate approaches zero you'll approach this optimal code\n",
    "# look into enforcing sparsity of Krauss operators"
   ]
  },
  {
   "cell_type": "code",
   "execution_count": 3,
   "id": "91ee0e0c-ab11-455d-acff-7bffc4516889",
   "metadata": {},
   "outputs": [],
   "source": [
    "def fidelity_vs_error(qec, error_scheme):\n",
    "    fids = []\n",
    "    errors = np.linspace(0, 0.5, 20)\n",
    "    for e in errors:\n",
    "        X_E = error_scheme(int(np.log2(qec[\"X_C\"].shape[0])), e)\n",
    "        fid = utils.compute_fidelity(X_C=qec[\"X_C\"], X_E=X_E, X_D=qec[\"X_D\"]).item()\n",
    "        fids.append(fid)\n",
    "    return errors, np.array(fids)"
   ]
  },
  {
   "cell_type": "code",
   "execution_count": 4,
   "id": "40f0c01e",
   "metadata": {},
   "outputs": [],
   "source": [
    "unprotected_qubit = qec_schemes.nothing()"
   ]
  },
  {
   "cell_type": "code",
   "execution_count": 5,
   "id": "2cee7adb",
   "metadata": {},
   "outputs": [],
   "source": [
    "stabilizer_5 = qec_schemes.five_qubit_qec()"
   ]
  },
  {
   "cell_type": "code",
   "execution_count": 6,
   "id": "cf6b2a4b",
   "metadata": {},
   "outputs": [],
   "source": [
    "stabilizer_3 = qec_schemes.three_qubit_bitflip_qec()"
   ]
  },
  {
   "cell_type": "code",
   "execution_count": 7,
   "id": "61796ac5",
   "metadata": {},
   "outputs": [
    {
     "name": "stdout",
     "output_type": "stream",
     "text": [
      "0.9911254919018833\n",
      "0.9908659527017173\n"
     ]
    }
   ],
   "source": [
    "error_model = [error_schemes.AD(q=7, l=0.01), error_schemes.AD(q=7, l=0.02)]\n",
    "cvx_7 = qec_schemes.convex_optimizer_qec(1, 7, error_model)"
   ]
  },
  {
   "cell_type": "code",
   "execution_count": 11,
   "id": "6a3c41c0",
   "metadata": {},
   "outputs": [
    {
     "ename": "KeyboardInterrupt",
     "evalue": "",
     "output_type": "error",
     "traceback": [
      "\u001b[0;31m---------------------------------------------------------------------------\u001b[0m",
      "\u001b[0;31mKeyboardInterrupt\u001b[0m                         Traceback (most recent call last)",
      "Input \u001b[0;32mIn [11]\u001b[0m, in \u001b[0;36m<module>\u001b[0;34m\u001b[0m\n\u001b[1;32m      1\u001b[0m fig, axs \u001b[38;5;241m=\u001b[39m plt\u001b[38;5;241m.\u001b[39msubplots(\u001b[38;5;241m3\u001b[39m,\u001b[38;5;241m1\u001b[39m, figsize \u001b[38;5;241m=\u001b[39m (\u001b[38;5;241m7\u001b[39m,\u001b[38;5;241m11\u001b[39m))\n\u001b[1;32m      3\u001b[0m axs[\u001b[38;5;241m0\u001b[39m]\u001b[38;5;241m.\u001b[39mplot(\u001b[38;5;241m*\u001b[39mfidelity_vs_error(stabilizer_5, error_schemes\u001b[38;5;241m.\u001b[39mAD), label \u001b[38;5;241m=\u001b[39m \u001b[38;5;124m\"\u001b[39m\u001b[38;5;124m5 qubit stabilizer\u001b[39m\u001b[38;5;124m\"\u001b[39m)\n\u001b[0;32m----> 4\u001b[0m axs[\u001b[38;5;241m0\u001b[39m]\u001b[38;5;241m.\u001b[39mplot(\u001b[38;5;241m*\u001b[39m\u001b[43mfidelity_vs_error\u001b[49m\u001b[43m(\u001b[49m\u001b[43mcvx_7\u001b[49m\u001b[43m,\u001b[49m\u001b[43m \u001b[49m\u001b[43merror_schemes\u001b[49m\u001b[38;5;241;43m.\u001b[39;49m\u001b[43mAD\u001b[49m\u001b[43m)\u001b[49m, label \u001b[38;5;241m=\u001b[39m \u001b[38;5;124m\"\u001b[39m\u001b[38;5;124mConvex Optimized QEC\u001b[39m\u001b[38;5;124m\"\u001b[39m)\n\u001b[1;32m      5\u001b[0m axs[\u001b[38;5;241m0\u001b[39m]\u001b[38;5;241m.\u001b[39mplot(\u001b[38;5;241m*\u001b[39mfidelity_vs_error(unprotected, error_schemes\u001b[38;5;241m.\u001b[39mAD), label \u001b[38;5;241m=\u001b[39m \u001b[38;5;124m\"\u001b[39m\u001b[38;5;124mSingle Qubit\u001b[39m\u001b[38;5;124m\"\u001b[39m)\n\u001b[1;32m      6\u001b[0m axs[\u001b[38;5;241m0\u001b[39m]\u001b[38;5;241m.\u001b[39mset_xlim(\u001b[38;5;241m0\u001b[39m, \u001b[38;5;241m0.25\u001b[39m)\n",
      "Input \u001b[0;32mIn [3]\u001b[0m, in \u001b[0;36mfidelity_vs_error\u001b[0;34m(qec, error_scheme)\u001b[0m\n\u001b[1;32m      4\u001b[0m \u001b[38;5;28;01mfor\u001b[39;00m e \u001b[38;5;129;01min\u001b[39;00m errors:\n\u001b[1;32m      5\u001b[0m     X_E \u001b[38;5;241m=\u001b[39m error_scheme(\u001b[38;5;28mint\u001b[39m(np\u001b[38;5;241m.\u001b[39mlog2(qec[\u001b[38;5;124m\"\u001b[39m\u001b[38;5;124mX_C\u001b[39m\u001b[38;5;124m\"\u001b[39m]\u001b[38;5;241m.\u001b[39mshape[\u001b[38;5;241m0\u001b[39m])), e)\n\u001b[0;32m----> 6\u001b[0m     fid \u001b[38;5;241m=\u001b[39m \u001b[43mutils\u001b[49m\u001b[38;5;241;43m.\u001b[39;49m\u001b[43mcompute_fidelity\u001b[49m\u001b[43m(\u001b[49m\u001b[43mX_C\u001b[49m\u001b[38;5;241;43m=\u001b[39;49m\u001b[43mqec\u001b[49m\u001b[43m[\u001b[49m\u001b[38;5;124;43m\"\u001b[39;49m\u001b[38;5;124;43mX_C\u001b[39;49m\u001b[38;5;124;43m\"\u001b[39;49m\u001b[43m]\u001b[49m\u001b[43m,\u001b[49m\u001b[43m \u001b[49m\u001b[43mX_E\u001b[49m\u001b[38;5;241;43m=\u001b[39;49m\u001b[43mX_E\u001b[49m\u001b[43m,\u001b[49m\u001b[43m \u001b[49m\u001b[43mX_D\u001b[49m\u001b[38;5;241;43m=\u001b[39;49m\u001b[43mqec\u001b[49m\u001b[43m[\u001b[49m\u001b[38;5;124;43m\"\u001b[39;49m\u001b[38;5;124;43mX_D\u001b[39;49m\u001b[38;5;124;43m\"\u001b[39;49m\u001b[43m]\u001b[49m\u001b[43m)\u001b[49m\u001b[38;5;241m.\u001b[39mitem()\n\u001b[1;32m      7\u001b[0m     fids\u001b[38;5;241m.\u001b[39mappend(fid)\n\u001b[1;32m      8\u001b[0m \u001b[38;5;28;01mreturn\u001b[39;00m errors, np\u001b[38;5;241m.\u001b[39marray(fids)\n",
      "File \u001b[0;32m~/Desktop/convex-quantum-error-correction/utils.py:17\u001b[0m, in \u001b[0;36mcompute_fidelity\u001b[0;34m(X_C, X_E, X_D)\u001b[0m\n\u001b[1;32m     16\u001b[0m \u001b[38;5;28;01mdef\u001b[39;00m \u001b[38;5;21mcompute_fidelity\u001b[39m(X_C, X_E, X_D):\n\u001b[0;32m---> 17\u001b[0m     \u001b[38;5;28;01mreturn\u001b[39;00m (\u001b[38;5;241m1\u001b[39m\u001b[38;5;241m/\u001b[39mX_C\u001b[38;5;241m.\u001b[39mshape[\u001b[38;5;241m1\u001b[39m]\u001b[38;5;241m*\u001b[39m\u001b[38;5;241m*\u001b[39m\u001b[38;5;241m2\u001b[39m) \u001b[38;5;241m*\u001b[39m \u001b[43mtorch\u001b[49m\u001b[38;5;241;43m.\u001b[39;49m\u001b[43meinsum\u001b[49m\u001b[43m(\u001b[49m\u001b[38;5;124;43m\"\u001b[39;49m\u001b[38;5;124;43miljg,misj,lmgs->\u001b[39;49m\u001b[38;5;124;43m\"\u001b[39;49m\u001b[43m,\u001b[49m\u001b[43m \u001b[49m\u001b[43mX_D\u001b[49m\u001b[43m,\u001b[49m\u001b[43m \u001b[49m\u001b[43mX_C\u001b[49m\u001b[43m,\u001b[49m\u001b[43m \u001b[49m\u001b[43mX_E\u001b[49m\u001b[43m)\u001b[49m\u001b[38;5;241m.\u001b[39mreal\n",
      "File \u001b[0;32m/opt/homebrew/Caskroom/miniforge/base/envs/NSSC/lib/python3.8/site-packages/torch/functional.py:386\u001b[0m, in \u001b[0;36meinsum\u001b[0;34m(*args)\u001b[0m\n\u001b[1;32m    384\u001b[0m     \u001b[38;5;66;03m# flatten path for dispatching to C++\u001b[39;00m\n\u001b[1;32m    385\u001b[0m     path \u001b[38;5;241m=\u001b[39m [item \u001b[38;5;28;01mfor\u001b[39;00m pair \u001b[38;5;129;01min\u001b[39;00m tupled_path \u001b[38;5;28;01mfor\u001b[39;00m item \u001b[38;5;129;01min\u001b[39;00m pair]\n\u001b[0;32m--> 386\u001b[0m \u001b[38;5;28;01mreturn\u001b[39;00m \u001b[43m_VF\u001b[49m\u001b[38;5;241;43m.\u001b[39;49m\u001b[43meinsum\u001b[49m\u001b[43m(\u001b[49m\u001b[43mequation\u001b[49m\u001b[43m,\u001b[49m\u001b[43m \u001b[49m\u001b[43moperands\u001b[49m\u001b[43m,\u001b[49m\u001b[43m \u001b[49m\u001b[43mpath\u001b[49m\u001b[38;5;241;43m=\u001b[39;49m\u001b[43mpath\u001b[49m\u001b[43m)\u001b[49m\n",
      "\u001b[0;31mKeyboardInterrupt\u001b[0m: "
     ]
    },
    {
     "data": {
      "image/png": "[encoded data removed]",
      "text/plain": [
       "<Figure size 504x792 with 3 Axes>"
      ]
     },
     "metadata": {},
     "output_type": "display_data"
    }
   ],
   "source": [
    "fig, axs = plt.subplots(3,1, figsize = (7,11))\n",
    "\n",
    "axs[0].plot(*fidelity_vs_error(stabilizer_5, error_schemes.AD), label = \"5 qubit stabilizer\")\n",
    "axs[0].plot(*fidelity_vs_error(cvx_7, error_schemes.AD), label = \"Convex Optimized QEC\")\n",
    "axs[0].plot(*fidelity_vs_error(unprotected, error_schemes.AD), label = \"Single Qubit\")\n",
    "axs[0].set_xlim(0, 0.25)\n",
    "axs[0].set_ylim(0.75, 1.05)\n",
    "axs[0].set_xlabel(\"$f_{avg}$\")\n",
    "axs[0].set_ylabel(\"$\\lambda$\")\n",
    "axs[0].set_title(\"Avg fidelity against amplitude damping channel\")\n",
    "axs[0].legend()\n",
    "\n",
    "axs[1].plot(*fidelity_vs_error(stabilizer_5, error_schemes.depolarizing), label = \"5 qubit stabilizer\")\n",
    "axs[1].plot(*fidelity_vs_error(cvx_7, error_schemes.depolarizing), label = \"Convex Optimized QEC\")\n",
    "axs[1].plot(*fidelity_vs_error(unprotected, error_schemes.depolarizing), label = \"Single Qubit\")\n",
    "axs[1].set_xlim(0, 0.25)\n",
    "axs[1].set_ylim(0.75, 1.05)\n",
    "axs[1].set_xlabel(\"$f_{avg}$\")\n",
    "axs[1].set_ylabel(\"$\\lambda$\")\n",
    "axs[1].set_title(\"Avg fidelity against depolarizing channel\")\n",
    "axs[1].legend()\n",
    "\n",
    "axs[2].plot(*fidelity_vs_error(stabilizer_5, error_schemes.dephasing), label = \"5 qubit stabilizer\")\n",
    "axs[2].plot(*fidelity_vs_error(cvx_7, error_schemes.dephasing), label = \"Convex Optimized QEC\")\n",
    "axs[2].plot(*fidelity_vs_error(unprotected, error_schemes.dephasing), label = \"Single Qubit\")\n",
    "axs[2].set_xlim(0, 0.25)\n",
    "axs[2].set_ylim(0.75, 1.05)\n",
    "axs[2].set_xlabel(\"$f_{avg}$\")\n",
    "axs[2].set_ylabel(\"$\\lambda$\")\n",
    "axs[2].set_title(\"Avg fidelity against dephasing channel\")\n",
    "axs[2].legend()\n",
    "\n",
    "plt.tight_layout()\n",
    "\n",
    "#plt.savefig(\"avg_fid_all_vs_gad\", dpi = 300)"
   ]
  },
  {
   "cell_type": "code",
   "execution_count": null,
   "id": "4c0b5cda",
   "metadata": {},
   "outputs": [],
   "source": [
    "\n"
   ]
  }
 ],
 "metadata": {
  "kernelspec": {
   "display_name": "NSSC",
   "language": "python",
   "name": "python3"
  },
  "language_info": {
   "codemirror_mode": {
    "name": "ipython",
    "version": 3
   },
   "file_extension": ".py",
   "mimetype": "text/x-python",
   "name": "python",
   "nbconvert_exporter": "python",
   "pygments_lexer": "ipython3",
   "version": "3.8.12"
  }
 },
 "nbformat": 4,
 "nbformat_minor": 5
}
