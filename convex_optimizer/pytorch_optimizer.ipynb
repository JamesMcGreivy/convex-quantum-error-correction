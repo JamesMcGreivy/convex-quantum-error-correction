{
 "cells": [
  {
   "cell_type": "code",
   "execution_count": 1,
   "metadata": {},
   "outputs": [
    {
     "ename": "ModuleNotFoundError",
     "evalue": "No module named 'tqdm'",
     "output_type": "error",
     "traceback": [
      "\u001b[0;31m---------------------------------------------------------------------------\u001b[0m",
      "\u001b[0;31mModuleNotFoundError\u001b[0m                       Traceback (most recent call last)",
      "Cell \u001b[0;32mIn[1], line 9\u001b[0m\n\u001b[1;32m      6\u001b[0m \u001b[38;5;28;01mimport\u001b[39;00m \u001b[38;5;21;01mprocess_matrix\u001b[39;00m\n\u001b[1;32m      7\u001b[0m \u001b[38;5;28;01mimport\u001b[39;00m \u001b[38;5;21;01mutils\u001b[39;00m\n\u001b[0;32m----> 9\u001b[0m \u001b[38;5;28;01mfrom\u001b[39;00m \u001b[38;5;21;01mtqdm\u001b[39;00m \u001b[38;5;28;01mimport\u001b[39;00m tqdm\n\u001b[1;32m     11\u001b[0m torch\u001b[38;5;241m.\u001b[39mcuda\u001b[38;5;241m.\u001b[39mempty_cache()\n\u001b[1;32m     13\u001b[0m \u001b[38;5;28;01mimport\u001b[39;00m \u001b[38;5;21;01mimportlib\u001b[39;00m\n",
      "\u001b[0;31mModuleNotFoundError\u001b[0m: No module named 'tqdm'"
     ]
    }
   ],
   "source": [
    "import numpy as np\n",
    "import torch\n",
    "import opt_einsum\n",
    "import itertools\n",
    "\n",
    "import process_matrix\n",
    "import utils\n",
    "\n",
    "from tqdm import tqdm\n",
    "\n",
    "torch.cuda.empty_cache()\n",
    "\n",
    "import importlib\n",
    "importlib.reload(utils)\n",
    "importlib.reload(process_matrix)"
   ]
  },
  {
   "cell_type": "code",
   "execution_count": 8,
   "metadata": {},
   "outputs": [],
   "source": [
    "q_s = 1\n",
    "q_c = 2\n",
    "device = \"cuda\""
   ]
  },
  {
   "cell_type": "code",
   "execution_count": 9,
   "metadata": {},
   "outputs": [],
   "source": [
    "# Generalized Amplitude Damping Krauss Operators\n",
    "N = 0.5\n",
    "g = 0.5\n",
    "\n",
    "K_1 = torch.tensor([[np.sqrt(1 - N), 0],[0, np.sqrt(1 - N) * np.sqrt(1 - g)]], device = device)\n",
    "K_2 = torch.tensor([[0,np.sqrt(g*(1-N))],[0,0]], device = device)\n",
    "K_3 = torch.tensor([[np.sqrt(N)*np.sqrt(1-g), 0],[0,np.sqrt(N)]], device = device)\n",
    "K_4 = torch.tensor([[0,0],[np.sqrt(g * N), 0]], device = device)\n",
    "K = [K_1, K_2, K_3, K_4]\n",
    "\n",
    "X_E = process_matrix.krauss_to_X_E(K, q_c)"
   ]
  },
  {
   "cell_type": "code",
   "execution_count": 10,
   "metadata": {},
   "outputs": [],
   "source": [
    "X_C = process_matrix.ProcessMatrix(q_s, q_c, device=\"cuda\")\n",
    "X_R = process_matrix.ProcessMatrix(q_c, q_s, device=\"cuda\")"
   ]
  },
  {
   "cell_type": "code",
   "execution_count": 11,
   "metadata": {},
   "outputs": [],
   "source": [
    "\n",
    "optimizer_C = torch.optim.SGD(X_C.parameters(), lr = 0.1)\n",
    "optimizer_R = torch.optim.SGD(X_R.parameters(), lr = 0.1)\n"
   ]
  },
  {
   "cell_type": "code",
   "execution_count": 12,
   "metadata": {},
   "outputs": [
    {
     "name": "stderr",
     "output_type": "stream",
     "text": [
      "Avg Fidelity : 0.08628010239197115:  10%|█         | 101/1000 [00:07<01:05, 13.65it/s]\n"
     ]
    },
    {
     "ename": "KeyboardInterrupt",
     "evalue": "",
     "output_type": "error",
     "traceback": [
      "\u001b[0;31m---------------------------------------------------------------------------\u001b[0m",
      "\u001b[0;31mKeyboardInterrupt\u001b[0m                         Traceback (most recent call last)",
      "Cell \u001b[0;32mIn[12], line 20\u001b[0m\n\u001b[1;32m     18\u001b[0m     \u001b[38;5;28;01mwith\u001b[39;00m torch\u001b[38;5;241m.\u001b[39mno_grad():\n\u001b[1;32m     19\u001b[0m         X_C()\u001b[38;5;241m.\u001b[39mdata \u001b[38;5;241m=\u001b[39m utils\u001b[38;5;241m.\u001b[39mmake_PSD(X_C()\u001b[38;5;241m.\u001b[39mdata)\n\u001b[0;32m---> 20\u001b[0m         X_C()\u001b[38;5;241m.\u001b[39mdata \u001b[38;5;241m=\u001b[39m utils\u001b[38;5;241m.\u001b[39mmake_sum_to_identity(X_C()\u001b[38;5;241m.\u001b[39mdata)\n\u001b[1;32m     22\u001b[0m \u001b[38;5;66;03m#Optimize X_R\u001b[39;00m\n\u001b[1;32m     23\u001b[0m W_R \u001b[38;5;241m=\u001b[39m (\u001b[38;5;241m1\u001b[39m \u001b[38;5;241m/\u001b[39m (X_C()\u001b[38;5;241m.\u001b[39mshape[\u001b[38;5;241m0\u001b[39m]\u001b[38;5;241m*\u001b[39m\u001b[38;5;241m*\u001b[39m\u001b[38;5;241m2\u001b[39m)) \u001b[38;5;241m*\u001b[39m opt_einsum\u001b[38;5;241m.\u001b[39mcontract(\u001b[38;5;124m\"\u001b[39m\u001b[38;5;124mmisj,lmgs->iljg\u001b[39m\u001b[38;5;124m\"\u001b[39m, X_C()\u001b[38;5;241m.\u001b[39mdetach(), X_E)\n",
      "File \u001b[0;32m~/convex-quantum-error-correction/utils.py:47\u001b[0m, in \u001b[0;36mmake_sum_to_identity\u001b[0;34m(X)\u001b[0m\n\u001b[1;32m     45\u001b[0m     X[k, \u001b[38;5;28mrange\u001b[39m(X\u001b[38;5;241m.\u001b[39mshape[\u001b[38;5;241m1\u001b[39m]), k, \u001b[38;5;28mrange\u001b[39m(X\u001b[38;5;241m.\u001b[39mshape[\u001b[38;5;241m1\u001b[39m])] \u001b[38;5;241m/\u001b[39m\u001b[38;5;241m=\u001b[39m partial_diag[\u001b[38;5;28mrange\u001b[39m(X\u001b[38;5;241m.\u001b[39mshape[\u001b[38;5;241m1\u001b[39m]), \u001b[38;5;28mrange\u001b[39m(X\u001b[38;5;241m.\u001b[39mshape[\u001b[38;5;241m1\u001b[39m])]\n\u001b[1;32m     46\u001b[0m     X[k, \u001b[38;5;28mrange\u001b[39m(X\u001b[38;5;241m.\u001b[39mshape[\u001b[38;5;241m1\u001b[39m]), k, \u001b[38;5;28mrange\u001b[39m(X\u001b[38;5;241m.\u001b[39mshape[\u001b[38;5;241m1\u001b[39m])] \u001b[38;5;241m+\u001b[39m\u001b[38;5;241m=\u001b[39m (partial_diag[\u001b[38;5;28mrange\u001b[39m(X\u001b[38;5;241m.\u001b[39mshape[\u001b[38;5;241m1\u001b[39m]),\u001b[38;5;28mrange\u001b[39m(X\u001b[38;5;241m.\u001b[39mshape[\u001b[38;5;241m1\u001b[39m])] \u001b[38;5;241m/\u001b[39m X\u001b[38;5;241m.\u001b[39mshape[\u001b[38;5;241m0\u001b[39m])\n\u001b[0;32m---> 47\u001b[0m     X[k, \u001b[38;5;28mrange\u001b[39m(X\u001b[38;5;241m.\u001b[39mshape[\u001b[38;5;241m1\u001b[39m]), k, :] \u001b[38;5;241m-\u001b[39m\u001b[38;5;241m=\u001b[39m (partial_diag[\u001b[38;5;28mrange\u001b[39m(X\u001b[38;5;241m.\u001b[39mshape[\u001b[38;5;241m1\u001b[39m]),:] \u001b[38;5;241m/\u001b[39m X\u001b[38;5;241m.\u001b[39mshape[\u001b[38;5;241m0\u001b[39m])\n\u001b[1;32m     48\u001b[0m \u001b[38;5;28;01mreturn\u001b[39;00m X\n",
      "\u001b[0;31mKeyboardInterrupt\u001b[0m: "
     ]
    }
   ],
   "source": [
    "regularization = 1\n",
    "\n",
    "pbar = tqdm(range(1000))\n",
    "for epoch in pbar:    \n",
    "    #Optimize X_C:\n",
    "    W_C = (1 / (X_C().shape[0]**2)) * opt_einsum.contract(\"iljg,lmgs->misj\", X_R().detach(), X_E)\n",
    "    for _ in range(10):\n",
    "        optimizer_C.zero_grad()\n",
    "        \n",
    "        f_avg = opt_einsum.contract(\"misj,misj->\", X_C(), W_C).real\n",
    "        X_C_identity = utils.sums_to_identity(X_C())\n",
    "        X_C_PSD = utils.positive_eigenvalues(X_C())\n",
    "        l = -f_avg + regularization*(X_C_identity + X_C_PSD)\n",
    "        l.backward()\n",
    "            \n",
    "        optimizer_C.step()\n",
    "\n",
    "        with torch.no_grad():\n",
    "            X_C().data = utils.make_PSD(X_C().data)\n",
    "            X_C().data = utils.make_sum_to_identity(X_C().data)\n",
    "    \n",
    "    #Optimize X_R\n",
    "    W_R = (1 / (X_C().shape[0]**2)) * opt_einsum.contract(\"misj,lmgs->iljg\", X_C().detach(), X_E)\n",
    "    for _ in range(10):        \n",
    "        # X_R Optimizing\n",
    "        optimizer_R.zero_grad()\n",
    "        \n",
    "        f_avg = opt_einsum.contract(\"iljg,iljg->\", X_R(), W_R).real\n",
    "        X_R_identity = utils.sums_to_identity(X_R())\n",
    "        X_R_PSD = utils.positive_eigenvalues(X_R())\n",
    "        l = -f_avg + regularization*(X_R_identity + X_R_PSD)\n",
    "        l.backward()\n",
    "        \n",
    "        optimizer_R.step()\n",
    "\n",
    "        with torch.no_grad():\n",
    "            X_R().data = utils.make_PSD(X_R().data)\n",
    "            X_R().data = utils.make_sum_to_identity(X_R().data)\n",
    "    \n",
    "    description = f\"Avg Fidelity : {f_avg}\"\n",
    "    pbar.set_description(description)"
   ]
  },
  {
   "cell_type": "code",
   "execution_count": null,
   "metadata": {},
   "outputs": [],
   "source": []
  }
 ],
 "metadata": {
  "kernelspec": {
   "display_name": "pytorch",
   "language": "python",
   "name": "python3"
  },
  "language_info": {
   "codemirror_mode": {
    "name": "ipython",
    "version": 3
   },
   "file_extension": ".py",
   "mimetype": "text/x-python",
   "name": "python",
   "nbconvert_exporter": "python",
   "pygments_lexer": "ipython3",
   "version": "3.12.3"
  }
 },
 "nbformat": 4,
 "nbformat_minor": 4
}
