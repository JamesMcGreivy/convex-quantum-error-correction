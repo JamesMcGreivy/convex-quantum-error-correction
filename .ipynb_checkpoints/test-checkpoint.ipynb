{
 "cells": [
  {
   "cell_type": "code",
   "execution_count": 1,
   "metadata": {},
   "outputs": [],
   "source": [
    "import numpy as np\n",
    "import torch\n",
    "import opt_einsum\n",
    "import itertools\n",
    "\n",
    "import process_matrices\n",
    "import utils\n",
    "\n",
    "from tqdm import tqdm"
   ]
  },
  {
   "cell_type": "code",
   "execution_count": 2,
   "metadata": {},
   "outputs": [],
   "source": [
    "q_s = 1\n",
    "q_c = 3"
   ]
  },
  {
   "cell_type": "code",
   "execution_count": 3,
   "metadata": {},
   "outputs": [],
   "source": [
    "# Generalized Amplitude Damping Krauss Operators\n",
    "N = 0\n",
    "g = 0.1\n",
    "\n",
    "K_1 = torch.tensor([[np.sqrt(1 - N), 0],[0, np.sqrt(1 - N) * np.sqrt(1 - g)]])\n",
    "K_2 = torch.tensor([[0,np.sqrt(g*(1-N))],[0,0]])\n",
    "K_3 = torch.tensor([[np.sqrt(N)*np.sqrt(1-g), 0],[0,np.sqrt(N)]])\n",
    "K_4 = torch.tensor([[0,0],[np.sqrt(g * N), 0]])\n",
    "K = [K_1, K_2, K_3, K_4]"
   ]
  },
  {
   "cell_type": "code",
   "execution_count": 4,
   "metadata": {},
   "outputs": [],
   "source": [
    "pms = process_matrices.ProcessMatrices(q_s, q_c, K=K, device=\"cuda\")"
   ]
  },
  {
   "cell_type": "code",
   "execution_count": 5,
   "metadata": {},
   "outputs": [],
   "source": [
    "def scale_V(V):\n",
    "    for i in range(V.shape[-1]):\n",
    "        V[:,:,:,i] /= torch.sqrt(torch.sum(V[:,:,:,i].conj() * V[:,:,:,i]).real)"
   ]
  },
  {
   "cell_type": "code",
   "execution_count": 6,
   "metadata": {},
   "outputs": [],
   "source": [
    "X_C, X_E, X_R = pms()"
   ]
  },
  {
   "cell_type": "code",
   "execution_count": 7,
   "metadata": {},
   "outputs": [
    {
     "data": {
      "text/plain": [
       "tensor(1.9921, device='cuda:0', dtype=torch.float64, grad_fn=<SumBackward1>)"
      ]
     },
     "execution_count": 7,
     "metadata": {},
     "output_type": "execute_result"
    }
   ],
   "source": [
    "utils.sums_to_identity(X_C)"
   ]
  },
  {
   "cell_type": "code",
   "execution_count": 8,
   "metadata": {},
   "outputs": [
    {
     "data": {
      "text/plain": [
       "tensor(2.3419e-31, device='cuda:0', dtype=torch.float64)"
      ]
     },
     "execution_count": 8,
     "metadata": {},
     "output_type": "execute_result"
    }
   ],
   "source": [
    "utils.sums_to_identity(X_E)"
   ]
  },
  {
   "cell_type": "code",
   "execution_count": null,
   "metadata": {},
   "outputs": [],
   "source": [
    "utils.sums_to_identity(X_R)"
   ]
  },
  {
   "cell_type": "code",
   "execution_count": 163,
   "metadata": {},
   "outputs": [],
   "source": [
    "\n",
    "optimizer1 = torch.optim.Adam([pms.V_C], lr = 1e-6)\n",
    "optimizer2 = torch.optim.Adam([pms.V_R], lr = 1e-6)\n"
   ]
  },
  {
   "cell_type": "code",
   "execution_count": null,
   "metadata": {},
   "outputs": [],
   "source": [
    "regularization = 1\n",
    "\n",
    "pbar = tqdm(range(100000))\n",
    "for epoch in pbar:\n",
    "    X_C, X_E, X_R = pms()\n",
    "    f_avg = utils.avg_fidelity(X_C, X_E, X_R)\n",
    "    X_C_identity = utils.sums_to_identity(X_C)\n",
    "    l1 = -f_avg + regularization * X_C_identity\n",
    "    l1.backward()\n",
    "    optimizer1.step()\n",
    "    optimizer1.zero_grad()\n",
    "    optimizer2.zero_grad()\n",
    "    \n",
    "    X_C, X_E, X_R = pms()\n",
    "    f_avg = utils.avg_fidelity(X_C, X_E, X_R)\n",
    "    X_R_identity = utils.sums_to_identity(X_R)\n",
    "    l2 = -f_avg + regularization * X_R_identity\n",
    "    l2.backward()\n",
    "    optimizer2.step()\n",
    "    optimizer1.zero_grad()\n",
    "    optimizer2.zero_grad()\n",
    "    \n",
    "    scale_V(pms.V_C.detach())\n",
    "    scale_V(pms.V_R.detach())\n",
    "    \n",
    "    pbar.set_description(f\"Total Loss : {l:.2f}, Avg Fidelity : {f_avg:.2f}, X_C sums to identity : {X_C_identity:.2f}, X_R sums to identity : {X_R_identity:.2f}\")"
   ]
  },
  {
   "cell_type": "code",
   "execution_count": null,
   "metadata": {},
   "outputs": [],
   "source": []
  }
 ],
 "metadata": {
  "kernelspec": {
   "display_name": "Python [conda env:.conda-torch]",
   "language": "python",
   "name": "conda-env-.conda-torch-py"
  },
  "language_info": {
   "codemirror_mode": {
    "name": "ipython",
    "version": 3
   },
   "file_extension": ".py",
   "mimetype": "text/x-python",
   "name": "python",
   "nbconvert_exporter": "python",
   "pygments_lexer": "ipython3",
   "version": "3.11.6"
  }
 },
 "nbformat": 4,
 "nbformat_minor": 4
}
