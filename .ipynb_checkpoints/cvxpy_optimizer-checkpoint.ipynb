{
 "cells": [
  {
   "cell_type": "code",
   "execution_count": 12,
   "id": "66ffb400-830f-4f80-aae2-009a34e57044",
   "metadata": {},
   "outputs": [
    {
     "data": {
      "text/plain": [
       "<module 'utils' from '/n/home10/jmcgreivy/convex-quantum-error-correction/utils.py'>"
      ]
     },
     "execution_count": 12,
     "metadata": {},
     "output_type": "execute_result"
    }
   ],
   "source": [
    "import numpy as np\n",
    "import torch\n",
    "import opt_einsum\n",
    "\n",
    "import utils\n",
    "import cvxpy_caller\n",
    "import process_matrix\n",
    "\n",
    "import importlib\n",
    "importlib.reload(utils)"
   ]
  },
  {
   "cell_type": "code",
   "execution_count": 13,
   "id": "11d7d4e7-c8b7-40be-9c24-bc2c9e927e62",
   "metadata": {},
   "outputs": [],
   "source": [
    "q_s = 1\n",
    "q_c = 6\n",
    "\n",
    "n_s = 2**q_s\n",
    "n_c = 2**q_c"
   ]
  },
  {
   "cell_type": "code",
   "execution_count": 14,
   "id": "e8dd8d99-7191-4bbd-b3fb-07355df0a7ec",
   "metadata": {},
   "outputs": [],
   "source": [
    "# Generalized Amplitude Damping Krauss Operators\n",
    "N = 0.1\n",
    "g = 0.1\n",
    "\n",
    "K_1 = torch.tensor([[np.sqrt(1 - N), 0],[0, np.sqrt(1 - N) * np.sqrt(1 - g)]])\n",
    "K_2 = torch.tensor([[0,np.sqrt(g*(1-N))],[0,0]])\n",
    "K_3 = torch.tensor([[np.sqrt(N)*np.sqrt(1-g), 0],[0,np.sqrt(N)]])\n",
    "K_4 = torch.tensor([[0,0],[np.sqrt(g * N), 0]])\n",
    "K = [K_1, K_2, K_3, K_4]\n",
    "\n",
    "X_E = process_matrix.krauss_to_X_E(K, q_c)"
   ]
  },
  {
   "cell_type": "code",
   "execution_count": 10,
   "id": "40a48dba-ded7-46be-a45c-6f5bc7cf46b9",
   "metadata": {},
   "outputs": [],
   "source": [
    "X_C = process_matrix.initialize_process_matrix(n_s, n_c)\n",
    "X_R = process_matrix.initialize_process_matrix(n_c, n_s)\n"
   ]
  },
  {
   "cell_type": "code",
   "execution_count": 11,
   "id": "42da32bd-bfe4-4ad5-a5a2-ef8d250a246d",
   "metadata": {},
   "outputs": [
    {
     "name": "stdout",
     "output_type": "stream",
     "text": [
      "0.9493373311832558\n"
     ]
    }
   ],
   "source": [
    "cutoff = 1e-6\n",
    "delta = np.inf\n",
    "\n",
    "prev_f_avg, i = 0, 0\n",
    "while (delta > cutoff):\n",
    "    W_C = (1/n_s**2) * opt_einsum.contract(\"iljg,lmgs->misj\", X_R, X_E)\n",
    "    _, X_C = cvxpy_caller.maximize_fidelity(X_C, W_C)\n",
    "    \n",
    "    W_R = (1/n_s**2) * opt_einsum.contract(\"misj,lmgs->iljg\", X_C, X_E)\n",
    "    f_avg, X_R = cvxpy_caller.maximize_fidelity(X_R, W_R)\n",
    "    \n",
    "    delta = (f_avg - prev_f_avg)\n",
    "    \n",
    "    prev_f_avg = f_avg\n",
    "    i += 0\n",
    "    \n",
    "\n",
    "print(f_avg)"
   ]
  },
  {
   "cell_type": "code",
   "execution_count": null,
   "id": "703100eb-5978-4d51-b1aa-b62dc3d94b02",
   "metadata": {},
   "outputs": [],
   "source": []
  }
 ],
 "metadata": {
  "kernelspec": {
   "display_name": "Python [conda env:.conda-torch]",
   "language": "python",
   "name": "conda-env-.conda-torch-py"
  },
  "language_info": {
   "codemirror_mode": {
    "name": "ipython",
    "version": 3
   },
   "file_extension": ".py",
   "mimetype": "text/x-python",
   "name": "python",
   "nbconvert_exporter": "python",
   "pygments_lexer": "ipython3",
   "version": "3.11.6"
  }
 },
 "nbformat": 4,
 "nbformat_minor": 5
}
