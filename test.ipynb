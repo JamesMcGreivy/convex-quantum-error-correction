{
 "cells": [
  {
   "cell_type": "code",
   "execution_count": 1,
   "metadata": {},
   "outputs": [],
   "source": [
    "import numpy as np\n",
    "import torch\n",
    "import opt_einsum\n",
    "import itertools\n",
    "\n",
    "import process_matrices\n",
    "import utils"
   ]
  },
  {
   "cell_type": "code",
   "execution_count": 2,
   "metadata": {},
   "outputs": [],
   "source": [
    "q_s = 1\n",
    "q_c = 2"
   ]
  },
  {
   "cell_type": "code",
   "execution_count": 3,
   "metadata": {},
   "outputs": [],
   "source": [
    "# Generalized Amplitude Damping Krauss Operators\n",
    "N = 0\n",
    "g = 0.5\n",
    "\n",
    "K_1 = torch.tensor([[np.sqrt(1 - N), 0],[0, np.sqrt(1 - N) * np.sqrt(1 - g)]])\n",
    "K_2 = torch.tensor([[0,np.sqrt(g*(1-N))],[0,0]])\n",
    "K_3 = torch.tensor([[np.sqrt(N)*np.sqrt(1-g), 0],[0,np.sqrt(N)]])\n",
    "K_4 = torch.tensor([[0,0],[np.sqrt(g * N), 0]])\n",
    "K = [K_1, K_2, K_3, K_4]"
   ]
  },
  {
   "cell_type": "code",
   "execution_count": 4,
   "metadata": {},
   "outputs": [],
   "source": [
    "pms = process_matrices.ProcessMatrices(q_s, q_c, K)"
   ]
  },
  {
   "cell_type": "code",
   "execution_count": 10,
   "metadata": {},
   "outputs": [],
   "source": [
    "optimizer = torch.optim.Adam(pms.parameters(), lr = 1e-5)\n",
    "\n",
    "regularization = 10\n",
    "loss = lambda X_C, X_E, X_R : - utils.avg_fidelity(X_C, X_E, X_R) + regularization * (utils.sums_to_identity(X_C) + utils.sums_to_identity(X_R))"
   ]
  },
  {
   "cell_type": "code",
   "execution_count": 24,
   "metadata": {},
   "outputs": [
    {
     "data": {
      "text/plain": [
       "tensor(4466290.4414, dtype=torch.float64, grad_fn=<AddBackward0>)"
      ]
     },
     "execution_count": 24,
     "metadata": {},
     "output_type": "execute_result"
    }
   ],
   "source": [
    "l = loss(*pms())\n",
    "l.backward()\n",
    "optimizer.step()\n",
    "l"
   ]
  },
  {
   "cell_type": "code",
   "execution_count": 24,
   "metadata": {},
   "outputs": [],
   "source": [
    "optimizer.step()"
   ]
  },
  {
   "cell_type": "code",
   "execution_count": null,
   "metadata": {},
   "outputs": [],
   "source": []
  }
 ],
 "metadata": {
  "kernelspec": {
   "display_name": "NSSC",
   "language": "python",
   "name": "python3"
  },
  "language_info": {
   "codemirror_mode": {
    "name": "ipython",
    "version": 3
   },
   "file_extension": ".py",
   "mimetype": "text/x-python",
   "name": "python",
   "nbconvert_exporter": "python",
   "pygments_lexer": "ipython3",
   "version": "3.8.12"
  }
 },
 "nbformat": 4,
 "nbformat_minor": 2
}
