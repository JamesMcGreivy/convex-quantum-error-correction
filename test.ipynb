{
 "cells": [
  {
   "cell_type": "code",
   "execution_count": 45,
   "metadata": {},
   "outputs": [],
   "source": [
    "import numpy as np\n",
    "import torch\n",
    "import opt_einsum\n",
    "import itertools\n",
    "\n",
    "import process_matrices\n",
    "import utils\n",
    "\n",
    "from tqdm import tqdm\n",
    "\n",
    "torch.cuda.empty_cache()"
   ]
  },
  {
   "cell_type": "code",
   "execution_count": 46,
   "metadata": {},
   "outputs": [],
   "source": [
    "q_s = 1\n",
    "q_c = 4"
   ]
  },
  {
   "cell_type": "code",
   "execution_count": 47,
   "metadata": {},
   "outputs": [],
   "source": [
    "# Generalized Amplitude Damping Krauss Operators\n",
    "N = 0\n",
    "g = 0.5\n",
    "\n",
    "K_1 = torch.tensor([[np.sqrt(1 - N), 0],[0, np.sqrt(1 - N) * np.sqrt(1 - g)]])\n",
    "K_2 = torch.tensor([[0,np.sqrt(g*(1-N))],[0,0]])\n",
    "K_3 = torch.tensor([[np.sqrt(N)*np.sqrt(1-g), 0],[0,np.sqrt(N)]])\n",
    "K_4 = torch.tensor([[0,0],[np.sqrt(g * N), 0]])\n",
    "K = [K_1, K_2, K_3, K_4]"
   ]
  },
  {
   "cell_type": "code",
   "execution_count": 48,
   "metadata": {},
   "outputs": [],
   "source": [
    "pms = process_matrices.ProcessMatrices(q_s, q_c, K=K, device=\"cpu\")"
   ]
  },
  {
   "cell_type": "code",
   "execution_count": 49,
   "metadata": {},
   "outputs": [],
   "source": [
    "X_C, X_E, X_R = pms()"
   ]
  },
  {
   "cell_type": "code",
   "execution_count": 50,
   "metadata": {},
   "outputs": [],
   "source": [
    "\n",
    "optimizer_C = torch.optim.SGD([pms.X_C], lr = 1e-3)\n",
    "optimizer_R = torch.optim.SGD([pms.X_R], lr = 1e-3)\n"
   ]
  },
  {
   "cell_type": "code",
   "execution_count": 51,
   "metadata": {},
   "outputs": [
    {
     "name": "stderr",
     "output_type": "stream",
     "text": [
      "Avg Fidelity : 0.0039:   1%|          | 7/1000 [01:08<2:41:03,  9.73s/it]\n"
     ]
    },
    {
     "ename": "KeyboardInterrupt",
     "evalue": "",
     "output_type": "error",
     "traceback": [
      "\u001b[0;31m---------------------------------------------------------------------------\u001b[0m",
      "\u001b[0;31mKeyboardInterrupt\u001b[0m                         Traceback (most recent call last)",
      "Input \u001b[0;32mIn [51]\u001b[0m, in \u001b[0;36m<module>\u001b[0;34m\u001b[0m\n\u001b[1;32m     29\u001b[0m     \u001b[38;5;28;01mwith\u001b[39;00m torch\u001b[38;5;241m.\u001b[39mno_grad():\n\u001b[1;32m     30\u001b[0m         pms\u001b[38;5;241m.\u001b[39mX_R\u001b[38;5;241m.\u001b[39mdata \u001b[38;5;241m=\u001b[39m utils\u001b[38;5;241m.\u001b[39mmake_PSD(pms\u001b[38;5;241m.\u001b[39mX_R\u001b[38;5;241m.\u001b[39mdata)\n\u001b[0;32m---> 31\u001b[0m         pms\u001b[38;5;241m.\u001b[39mX_R\u001b[38;5;241m.\u001b[39mdata \u001b[38;5;241m=\u001b[39m \u001b[43mutils\u001b[49m\u001b[38;5;241;43m.\u001b[39;49m\u001b[43mmake_sum_to_identity\u001b[49m\u001b[43m(\u001b[49m\u001b[43mpms\u001b[49m\u001b[38;5;241;43m.\u001b[39;49m\u001b[43mX_R\u001b[49m\u001b[38;5;241;43m.\u001b[39;49m\u001b[43mdata\u001b[49m\u001b[43m)\u001b[49m\n\u001b[1;32m     33\u001b[0m description \u001b[38;5;241m=\u001b[39m \u001b[38;5;124mf\u001b[39m\u001b[38;5;124m\"\u001b[39m\u001b[38;5;124mAvg Fidelity : \u001b[39m\u001b[38;5;132;01m{\u001b[39;00mf_avg\u001b[38;5;132;01m:\u001b[39;00m\u001b[38;5;124m.4f\u001b[39m\u001b[38;5;132;01m}\u001b[39;00m\u001b[38;5;124m\"\u001b[39m\n\u001b[1;32m     34\u001b[0m pbar\u001b[38;5;241m.\u001b[39mset_description(description)\n",
      "File \u001b[0;32m~/Desktop/convex-quantum-error-correction/utils.py:54\u001b[0m, in \u001b[0;36mmake_sum_to_identity\u001b[0;34m(X)\u001b[0m\n\u001b[1;32m     52\u001b[0m                 X[k,i,k,i] \u001b[38;5;241m/\u001b[39m\u001b[38;5;241m=\u001b[39m partial_diag[i,i]\n\u001b[1;32m     53\u001b[0m             \u001b[38;5;28;01melse\u001b[39;00m:\n\u001b[0;32m---> 54\u001b[0m                 X[k,i,k,j] \u001b[38;5;241m-\u001b[39m\u001b[38;5;241m=\u001b[39m (partial_diag[i,j] \u001b[38;5;241m/\u001b[39m X\u001b[38;5;241m.\u001b[39mshape[\u001b[38;5;241m0\u001b[39m])\n\u001b[1;32m     55\u001b[0m \u001b[38;5;28;01mreturn\u001b[39;00m X\n",
      "\u001b[0;31mKeyboardInterrupt\u001b[0m: "
     ]
    }
   ],
   "source": [
    "pbar = tqdm(range(1000))\n",
    "regularization = 1\n",
    "for epoch in pbar:\n",
    "    for _ in range(1000):\n",
    "        # X_C Optimizing\n",
    "        optimizer_C.zero_grad()\n",
    "        X_C, X_E, X_R = pms()\n",
    "        \n",
    "        f_avg = utils.avg_fidelity(X_C, X_E, X_R)\n",
    "        \n",
    "        l = -f_avg\n",
    "        l.backward()\n",
    "        optimizer_C.step()\n",
    "\n",
    "        with torch.no_grad():\n",
    "            pms.X_C.data = utils.make_PSD(pms.X_C.data)\n",
    "            pms.X_C.data = utils.make_sum_to_identity(pms.X_C.data)\n",
    "\n",
    "    for _ in range(1000):        \n",
    "        # X_R Optimizing\n",
    "        optimizer_R.zero_grad()\n",
    "        X_C, X_E, X_R = pms()\n",
    "        f_avg = utils.avg_fidelity(X_C, X_E, X_R)\n",
    "\n",
    "        l = -f_avg\n",
    "        l.backward()\n",
    "        optimizer_R.step()\n",
    "\n",
    "        with torch.no_grad():\n",
    "            pms.X_R.data = utils.make_PSD(pms.X_R.data)\n",
    "            pms.X_R.data = utils.make_sum_to_identity(pms.X_R.data)\n",
    "    \n",
    "    description = f\"Avg Fidelity : {f_avg:.4f}\"\n",
    "    pbar.set_description(description)"
   ]
  },
  {
   "cell_type": "code",
   "execution_count": 23,
   "metadata": {},
   "outputs": [],
   "source": [
    "X_C, X_E, X_R = pms()"
   ]
  },
  {
   "cell_type": "code",
   "execution_count": null,
   "metadata": {},
   "outputs": [],
   "source": []
  }
 ],
 "metadata": {
  "kernelspec": {
   "display_name": "NSSC",
   "language": "python",
   "name": "python3"
  },
  "language_info": {
   "codemirror_mode": {
    "name": "ipython",
    "version": 3
   },
   "file_extension": ".py",
   "mimetype": "text/x-python",
   "name": "python",
   "nbconvert_exporter": "python",
   "pygments_lexer": "ipython3",
   "version": "3.8.12"
  }
 },
 "nbformat": 4,
 "nbformat_minor": 4
}
